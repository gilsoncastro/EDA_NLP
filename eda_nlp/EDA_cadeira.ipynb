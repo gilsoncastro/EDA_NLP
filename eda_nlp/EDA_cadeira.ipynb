{
 "cells": [
  {
   "cell_type": "markdown",
   "id": "6d8f7960",
   "metadata": {},
   "source": [
    "# Análise exploratória de dados (EDA) em dados de texto \n",
    "\n",
    "\n",
    "\n",
    "O conjunto de dados contém comentários no Google Maps sobre uma atração turística em Maceió, Alagoas intitulada **A Cadeira Gigante de Maceió**. O conjunto de dados tem 250 linhas e 26 colunas, cada uma contendo  comentários, nome de usuário, classificação de comentário e demais informações."
   ]
  },
  {
   "cell_type": "markdown",
   "id": "b5a16452",
   "metadata": {},
   "source": [
    "![maceio.al.gov.br](https://maceioalgovbr.dhost.cloud/uploads/imagens/WhatsApp-Image-2022-01-08-at-14.26.58.jpeg)"
   ]
  },
  {
   "cell_type": "markdown",
   "id": "5d773d24",
   "metadata": {},
   "source": [
    "## Importaçao e carregamento dos dados"
   ]
  },
  {
   "cell_type": "code",
   "execution_count": 23,
   "id": "1b77c291",
   "metadata": {},
   "outputs": [
    {
     "name": "stdout",
     "output_type": "stream",
     "text": [
      "Collecting textblob\n",
      "  Downloading textblob-0.17.1-py2.py3-none-any.whl (636 kB)\n",
      "     -------------------------------------- 636.8/636.8 kB 1.5 MB/s eta 0:00:00\n",
      "Requirement already satisfied: nltk>=3.1 in c:\\users\\gilson castro\\anaconda3\\lib\\site-packages (from textblob) (3.7)\n",
      "Requirement already satisfied: tqdm in c:\\users\\gilson castro\\anaconda3\\lib\\site-packages (from nltk>=3.1->textblob) (4.64.1)\n",
      "Requirement already satisfied: click in c:\\users\\gilson castro\\anaconda3\\lib\\site-packages (from nltk>=3.1->textblob) (8.0.4)\n",
      "Requirement already satisfied: regex>=2021.8.3 in c:\\users\\gilson castro\\anaconda3\\lib\\site-packages (from nltk>=3.1->textblob) (2022.7.9)\n",
      "Requirement already satisfied: joblib in c:\\users\\gilson castro\\anaconda3\\lib\\site-packages (from nltk>=3.1->textblob) (1.1.1)\n",
      "Requirement already satisfied: colorama in c:\\users\\gilson castro\\anaconda3\\lib\\site-packages (from click->nltk>=3.1->textblob) (0.4.6)\n",
      "Installing collected packages: textblob\n",
      "Successfully installed textblob-0.17.1\n"
     ]
    }
   ],
   "source": [
    "!pip install  textblob"
   ]
  },
  {
   "cell_type": "code",
   "execution_count": 43,
   "id": "631f4d9b",
   "metadata": {},
   "outputs": [],
   "source": [
    "import numpy as np\n",
    "from textblob import TextBlob\n",
    "import pandas as pd\n",
    "import seaborn as sns\n",
    "import matplotlib.pyplot as plt "
   ]
  },
  {
   "cell_type": "code",
   "execution_count": 17,
   "id": "6bcd9fc9",
   "metadata": {},
   "outputs": [],
   "source": [
    "df = pd.read_csv('C:/Users/Gilson Castro/Documents/EDA_NLP/cadeira.csv')"
   ]
  },
  {
   "cell_type": "code",
   "execution_count": 18,
   "id": "ac96d5aa",
   "metadata": {},
   "outputs": [
    {
     "data": {
      "text/html": [
       "<div>\n",
       "<style scoped>\n",
       "    .dataframe tbody tr th:only-of-type {\n",
       "        vertical-align: middle;\n",
       "    }\n",
       "\n",
       "    .dataframe tbody tr th {\n",
       "        vertical-align: top;\n",
       "    }\n",
       "\n",
       "    .dataframe thead th {\n",
       "        text-align: right;\n",
       "    }\n",
       "</style>\n",
       "<table border=\"1\" class=\"dataframe\">\n",
       "  <thead>\n",
       "    <tr style=\"text-align: right;\">\n",
       "      <th></th>\n",
       "      <th>query</th>\n",
       "      <th>name</th>\n",
       "      <th>google_id</th>\n",
       "      <th>place_id</th>\n",
       "      <th>location_link</th>\n",
       "      <th>reviews_link</th>\n",
       "      <th>reviews_per_score</th>\n",
       "      <th>reviews</th>\n",
       "      <th>rating</th>\n",
       "      <th>review_id</th>\n",
       "      <th>...</th>\n",
       "      <th>review_img_urls</th>\n",
       "      <th>owner_answer</th>\n",
       "      <th>owner_answer_timestamp</th>\n",
       "      <th>owner_answer_timestamp_datetime_utc</th>\n",
       "      <th>review_link</th>\n",
       "      <th>review_rating</th>\n",
       "      <th>review_timestamp</th>\n",
       "      <th>review_datetime_utc</th>\n",
       "      <th>review_likes</th>\n",
       "      <th>reviews_id</th>\n",
       "    </tr>\n",
       "  </thead>\n",
       "  <tbody>\n",
       "    <tr>\n",
       "      <th>0</th>\n",
       "      <td>https://www.google.com/search?q=cadeira+gigant...</td>\n",
       "      <td>A Cadeira Gigante de Maceió</td>\n",
       "      <td>0x70145d7bad433fb:0xe083c0f5c33ea91c</td>\n",
       "      <td>ChIJ-zPUutdFAQcRHKk-w_XAg-A</td>\n",
       "      <td>https://www.google.com/maps/place/A+Cadeira+Gi...</td>\n",
       "      <td>https://search.google.com/local/reviews?placei...</td>\n",
       "      <td>{\"1\": 36, \"2\": 25, \"3\": 104, \"4\": 293, \"5\": 2073}</td>\n",
       "      <td>2531</td>\n",
       "      <td>4.7</td>\n",
       "      <td>ChdDSUhNMG9nS0VJQ0FnSUMyN0tTSnV3RRAB</td>\n",
       "      <td>...</td>\n",
       "      <td>https://lh5.googleusercontent.com/p/AF1QipOx0E...</td>\n",
       "      <td>NaN</td>\n",
       "      <td>NaN</td>\n",
       "      <td>NaN</td>\n",
       "      <td>https://www.google.com/maps/reviews/data=!4m8!...</td>\n",
       "      <td>5</td>\n",
       "      <td>1649968496</td>\n",
       "      <td>04/14/2022 20:34:56</td>\n",
       "      <td>8</td>\n",
       "      <td>-2268757625489413860</td>\n",
       "    </tr>\n",
       "    <tr>\n",
       "      <th>1</th>\n",
       "      <td>https://www.google.com/search?q=cadeira+gigant...</td>\n",
       "      <td>A Cadeira Gigante de Maceió</td>\n",
       "      <td>0x70145d7bad433fb:0xe083c0f5c33ea91c</td>\n",
       "      <td>ChIJ-zPUutdFAQcRHKk-w_XAg-A</td>\n",
       "      <td>https://www.google.com/maps/place/A+Cadeira+Gi...</td>\n",
       "      <td>https://search.google.com/local/reviews?placei...</td>\n",
       "      <td>{\"1\": 36, \"2\": 25, \"3\": 104, \"4\": 293, \"5\": 2073}</td>\n",
       "      <td>2531</td>\n",
       "      <td>4.7</td>\n",
       "      <td>ChdDSUhNMG9nS0VJQ0FnSURPNXJELS1RRRAB</td>\n",
       "      <td>...</td>\n",
       "      <td>https://lh5.googleusercontent.com/p/AF1QipMWEB...</td>\n",
       "      <td>NaN</td>\n",
       "      <td>NaN</td>\n",
       "      <td>NaN</td>\n",
       "      <td>https://www.google.com/maps/reviews/data=!4m8!...</td>\n",
       "      <td>5</td>\n",
       "      <td>1656932100</td>\n",
       "      <td>07/04/2022 10:55:00</td>\n",
       "      <td>3</td>\n",
       "      <td>-2268757625489413860</td>\n",
       "    </tr>\n",
       "    <tr>\n",
       "      <th>2</th>\n",
       "      <td>https://www.google.com/search?q=cadeira+gigant...</td>\n",
       "      <td>A Cadeira Gigante de Maceió</td>\n",
       "      <td>0x70145d7bad433fb:0xe083c0f5c33ea91c</td>\n",
       "      <td>ChIJ-zPUutdFAQcRHKk-w_XAg-A</td>\n",
       "      <td>https://www.google.com/maps/place/A+Cadeira+Gi...</td>\n",
       "      <td>https://search.google.com/local/reviews?placei...</td>\n",
       "      <td>{\"1\": 36, \"2\": 25, \"3\": 104, \"4\": 293, \"5\": 2073}</td>\n",
       "      <td>2531</td>\n",
       "      <td>4.7</td>\n",
       "      <td>ChdDSUhNMG9nS0VJQ0FnSUNlaTRINGxRRRAB</td>\n",
       "      <td>...</td>\n",
       "      <td>https://lh5.googleusercontent.com/p/AF1QipOTl7...</td>\n",
       "      <td>NaN</td>\n",
       "      <td>NaN</td>\n",
       "      <td>NaN</td>\n",
       "      <td>https://www.google.com/maps/reviews/data=!4m8!...</td>\n",
       "      <td>5</td>\n",
       "      <td>1663953491</td>\n",
       "      <td>09/23/2022 17:18:11</td>\n",
       "      <td>2</td>\n",
       "      <td>-2268757625489413860</td>\n",
       "    </tr>\n",
       "  </tbody>\n",
       "</table>\n",
       "<p>3 rows × 26 columns</p>\n",
       "</div>"
      ],
      "text/plain": [
       "                                               query  \\\n",
       "0  https://www.google.com/search?q=cadeira+gigant...   \n",
       "1  https://www.google.com/search?q=cadeira+gigant...   \n",
       "2  https://www.google.com/search?q=cadeira+gigant...   \n",
       "\n",
       "                          name                             google_id  \\\n",
       "0  A Cadeira Gigante de Maceió  0x70145d7bad433fb:0xe083c0f5c33ea91c   \n",
       "1  A Cadeira Gigante de Maceió  0x70145d7bad433fb:0xe083c0f5c33ea91c   \n",
       "2  A Cadeira Gigante de Maceió  0x70145d7bad433fb:0xe083c0f5c33ea91c   \n",
       "\n",
       "                      place_id  \\\n",
       "0  ChIJ-zPUutdFAQcRHKk-w_XAg-A   \n",
       "1  ChIJ-zPUutdFAQcRHKk-w_XAg-A   \n",
       "2  ChIJ-zPUutdFAQcRHKk-w_XAg-A   \n",
       "\n",
       "                                       location_link  \\\n",
       "0  https://www.google.com/maps/place/A+Cadeira+Gi...   \n",
       "1  https://www.google.com/maps/place/A+Cadeira+Gi...   \n",
       "2  https://www.google.com/maps/place/A+Cadeira+Gi...   \n",
       "\n",
       "                                        reviews_link  \\\n",
       "0  https://search.google.com/local/reviews?placei...   \n",
       "1  https://search.google.com/local/reviews?placei...   \n",
       "2  https://search.google.com/local/reviews?placei...   \n",
       "\n",
       "                                   reviews_per_score  reviews  rating  \\\n",
       "0  {\"1\": 36, \"2\": 25, \"3\": 104, \"4\": 293, \"5\": 2073}     2531     4.7   \n",
       "1  {\"1\": 36, \"2\": 25, \"3\": 104, \"4\": 293, \"5\": 2073}     2531     4.7   \n",
       "2  {\"1\": 36, \"2\": 25, \"3\": 104, \"4\": 293, \"5\": 2073}     2531     4.7   \n",
       "\n",
       "                              review_id  ...  \\\n",
       "0  ChdDSUhNMG9nS0VJQ0FnSUMyN0tTSnV3RRAB  ...   \n",
       "1  ChdDSUhNMG9nS0VJQ0FnSURPNXJELS1RRRAB  ...   \n",
       "2  ChdDSUhNMG9nS0VJQ0FnSUNlaTRINGxRRRAB  ...   \n",
       "\n",
       "                                     review_img_urls owner_answer  \\\n",
       "0  https://lh5.googleusercontent.com/p/AF1QipOx0E...          NaN   \n",
       "1  https://lh5.googleusercontent.com/p/AF1QipMWEB...          NaN   \n",
       "2  https://lh5.googleusercontent.com/p/AF1QipOTl7...          NaN   \n",
       "\n",
       "  owner_answer_timestamp owner_answer_timestamp_datetime_utc  \\\n",
       "0                    NaN                                 NaN   \n",
       "1                    NaN                                 NaN   \n",
       "2                    NaN                                 NaN   \n",
       "\n",
       "                                         review_link review_rating  \\\n",
       "0  https://www.google.com/maps/reviews/data=!4m8!...             5   \n",
       "1  https://www.google.com/maps/reviews/data=!4m8!...             5   \n",
       "2  https://www.google.com/maps/reviews/data=!4m8!...             5   \n",
       "\n",
       "  review_timestamp  review_datetime_utc  review_likes           reviews_id  \n",
       "0       1649968496  04/14/2022 20:34:56             8 -2268757625489413860  \n",
       "1       1656932100  07/04/2022 10:55:00             3 -2268757625489413860  \n",
       "2       1663953491  09/23/2022 17:18:11             2 -2268757625489413860  \n",
       "\n",
       "[3 rows x 26 columns]"
      ]
     },
     "execution_count": 18,
     "metadata": {},
     "output_type": "execute_result"
    }
   ],
   "source": [
    "df.head(3)"
   ]
  },
  {
   "cell_type": "code",
   "execution_count": 19,
   "id": "0c0f54ac",
   "metadata": {},
   "outputs": [
    {
     "data": {
      "text/plain": [
       "'De fato, Maceió é massa! Vários locais Instagramáveis com opções de fotografias filmagens com drone por R$25. Valorizou ainda mais a belíssima orla da Ponta Verde. Chegamos por volta das 8h da manhã de um sábado e não pegamos fila alguma.'"
      ]
     },
     "execution_count": 19,
     "metadata": {},
     "output_type": "execute_result"
    }
   ],
   "source": [
    "df['review_text'][4]"
   ]
  },
  {
   "cell_type": "code",
   "execution_count": 20,
   "id": "547931f2",
   "metadata": {},
   "outputs": [
    {
     "data": {
      "text/plain": [
       "'Mesmo na fila, foi divertido rs todos passeando sem se estressar. Cadeira gigante mesmo!! Fácil localização e gratuita.'"
      ]
     },
     "execution_count": 20,
     "metadata": {},
     "output_type": "execute_result"
    }
   ],
   "source": [
    "df['review_text'][30]"
   ]
  },
  {
   "cell_type": "code",
   "execution_count": 5,
   "id": "9c00a317",
   "metadata": {},
   "outputs": [
    {
     "data": {
      "text/plain": [
       "Index(['query', 'name', 'google_id', 'place_id', 'location_link',\n",
       "       'reviews_link', 'reviews_per_score', 'reviews', 'rating', 'review_id',\n",
       "       'author_link', 'author_title', 'author_id', 'author_image',\n",
       "       'review_text', 'review_img_url', 'review_img_urls', 'owner_answer',\n",
       "       'owner_answer_timestamp', 'owner_answer_timestamp_datetime_utc',\n",
       "       'review_link', 'review_rating', 'review_timestamp',\n",
       "       'review_datetime_utc', 'review_likes', 'reviews_id'],\n",
       "      dtype='object')"
      ]
     },
     "execution_count": 5,
     "metadata": {},
     "output_type": "execute_result"
    }
   ],
   "source": [
    "df.columns # colunas do dataset"
   ]
  },
  {
   "cell_type": "code",
   "execution_count": 7,
   "id": "cb6f37b4",
   "metadata": {},
   "outputs": [
    {
     "data": {
      "text/plain": [
       "(250, 26)"
      ]
     },
     "execution_count": 7,
     "metadata": {},
     "output_type": "execute_result"
    }
   ],
   "source": [
    "df.shape # linhas e colunas "
   ]
  },
  {
   "cell_type": "code",
   "execution_count": 14,
   "id": "1ded5924",
   "metadata": {},
   "outputs": [
    {
     "data": {
      "text/plain": [
       "'Excelente local para fotografia, agora é bom lembrar que tem outras pessoas na fila aguardando.\\nNo dia que fui uma garota tirou umas 100 fotos passando mais de 10 minutos no local. Tremenda falta de respeito.\\nE lembrando que devido a altura da cadeira é preciso ajuda para subir, logo tem um pessoal que empresta uma pequena escada em troca de uma gorjeta.(Válido).'"
      ]
     },
     "execution_count": 14,
     "metadata": {},
     "output_type": "execute_result"
    }
   ],
   "source": [
    "# verificando nossa coluna (comentário sobre a cadeira ) de interesse ( spoiler!!)\n",
    "df['review_text'][45]"
   ]
  },
  {
   "cell_type": "code",
   "execution_count": 16,
   "id": "2b7bc505",
   "metadata": {},
   "outputs": [
    {
     "data": {
      "text/plain": [
       "5    192\n",
       "4     29\n",
       "3     25\n",
       "1      3\n",
       "2      1\n",
       "Name: review_rating, dtype: int64"
      ]
     },
     "execution_count": 16,
     "metadata": {},
     "output_type": "execute_result"
    }
   ],
   "source": [
    "#verificando outra coluna de interesse chamada de classificação de avaliação\n",
    "df['review_rating'].value_counts()"
   ]
  },
  {
   "cell_type": "code",
   "execution_count": 22,
   "id": "c49b3355",
   "metadata": {},
   "outputs": [
    {
     "data": {
      "text/plain": [
       "query                                    0\n",
       "name                                     0\n",
       "google_id                                0\n",
       "place_id                                 0\n",
       "location_link                            0\n",
       "reviews_link                             0\n",
       "reviews_per_score                        0\n",
       "reviews                                  0\n",
       "rating                                   0\n",
       "review_id                                0\n",
       "author_link                              0\n",
       "author_title                             0\n",
       "author_id                                0\n",
       "author_image                             0\n",
       "review_text                              0\n",
       "review_img_url                         132\n",
       "review_img_urls                        132\n",
       "owner_answer                           250\n",
       "owner_answer_timestamp                 250\n",
       "owner_answer_timestamp_datetime_utc    250\n",
       "review_link                              0\n",
       "review_rating                            0\n",
       "review_timestamp                         0\n",
       "review_datetime_utc                      0\n",
       "review_likes                             0\n",
       "reviews_id                               0\n",
       "dtype: int64"
      ]
     },
     "execution_count": 22,
     "metadata": {},
     "output_type": "execute_result"
    }
   ],
   "source": [
    "#verificando valores nulos\n",
    "df.isnull().sum()"
   ]
  },
  {
   "cell_type": "markdown",
   "id": "61f0aa4c",
   "metadata": {},
   "source": [
    "#  Pré processamento & limpeza "
   ]
  },
  {
   "cell_type": "code",
   "execution_count": 29,
   "id": "ea41705d",
   "metadata": {},
   "outputs": [
    {
     "data": {
      "text/html": [
       "<div>\n",
       "<style scoped>\n",
       "    .dataframe tbody tr th:only-of-type {\n",
       "        vertical-align: middle;\n",
       "    }\n",
       "\n",
       "    .dataframe tbody tr th {\n",
       "        vertical-align: top;\n",
       "    }\n",
       "\n",
       "    .dataframe thead th {\n",
       "        text-align: right;\n",
       "    }\n",
       "</style>\n",
       "<table border=\"1\" class=\"dataframe\">\n",
       "  <thead>\n",
       "    <tr style=\"text-align: right;\">\n",
       "      <th></th>\n",
       "      <th>review_text</th>\n",
       "      <th>review_rating</th>\n",
       "    </tr>\n",
       "  </thead>\n",
       "  <tbody>\n",
       "    <tr>\n",
       "      <th>0</th>\n",
       "      <td>A cadeira gigante fica localizada em frente ao...</td>\n",
       "      <td>5</td>\n",
       "    </tr>\n",
       "    <tr>\n",
       "      <th>1</th>\n",
       "      <td>Ponto turístico na orla de Maceió bastante mov...</td>\n",
       "      <td>5</td>\n",
       "    </tr>\n",
       "    <tr>\n",
       "      <th>2</th>\n",
       "      <td>Excelente ponto turístico para algumas fotos.\\...</td>\n",
       "      <td>5</td>\n",
       "    </tr>\n",
       "  </tbody>\n",
       "</table>\n",
       "</div>"
      ],
      "text/plain": [
       "                                         review_text  review_rating\n",
       "0  A cadeira gigante fica localizada em frente ao...              5\n",
       "1  Ponto turístico na orla de Maceió bastante mov...              5\n",
       "2  Excelente ponto turístico para algumas fotos.\\...              5"
      ]
     },
     "execution_count": 29,
     "metadata": {},
     "output_type": "execute_result"
    }
   ],
   "source": [
    "# separando as colunas necessarias para a análise exploratória pois eu não quero dropar tudo\n",
    "df_filtro = df[['review_text','review_rating']]\n",
    "df_filtro.head(3)\n"
   ]
  },
  {
   "cell_type": "code",
   "execution_count": null,
   "id": "930e929f",
   "metadata": {},
   "outputs": [],
   "source": [
    "df_filtro.head(3)"
   ]
  },
  {
   "cell_type": "code",
   "execution_count": null,
   "id": "0b0af1fc",
   "metadata": {},
   "outputs": [],
   "source": []
  },
  {
   "cell_type": "code",
   "execution_count": 36,
   "id": "857f2435",
   "metadata": {},
   "outputs": [],
   "source": [
    "#função realizar a limpeza da coluna de comentarios\n",
    "import re\n",
    "import string\n",
    "\n",
    "def preprocessamento(reviewtext):\n",
    "    reviewtext = reviewtext.str.replace(r\"(<br/>)\", \"\")\n",
    "    reviewtext = reviewtext.str.replace(r\"\\w*\\d\\w*\", \"\", flags=re.IGNORECASE)  # Dígitos e Palavras que contêm dígitos\n",
    "    reviewtext = reviewtext.str.replace(r\"[%s]\" % re.escape(string.punctuation), \"\")\n",
    "    reviewtext = reviewtext.str.replace(r\" +\", \" \")\n",
    "     \n",
    "    return reviewtext\n",
    "\n",
    " \n"
   ]
  },
  {
   "cell_type": "code",
   "execution_count": 37,
   "id": "4db08f29",
   "metadata": {},
   "outputs": [
    {
     "name": "stderr",
     "output_type": "stream",
     "text": [
      "C:\\Users\\Gilson Castro\\AppData\\Local\\Temp\\ipykernel_13864\\608469413.py:6: FutureWarning: The default value of regex will change from True to False in a future version.\n",
      "  reviewtext = reviewtext.str.replace(r\"(<br/>)\", \"\")\n",
      "C:\\Users\\Gilson Castro\\AppData\\Local\\Temp\\ipykernel_13864\\608469413.py:7: FutureWarning: The default value of regex will change from True to False in a future version.\n",
      "  reviewtext = reviewtext.str.replace(r\"\\w*\\d\\w*\", \"\", flags=re.IGNORECASE)  # Dígitos e Palavras que contêm dígitos\n",
      "C:\\Users\\Gilson Castro\\AppData\\Local\\Temp\\ipykernel_13864\\608469413.py:8: FutureWarning: The default value of regex will change from True to False in a future version.\n",
      "  reviewtext = reviewtext.str.replace(r\"[%s]\" % re.escape(string.punctuation), \"\")\n",
      "C:\\Users\\Gilson Castro\\AppData\\Local\\Temp\\ipykernel_13864\\608469413.py:9: FutureWarning: The default value of regex will change from True to False in a future version.\n",
      "  reviewtext = reviewtext.str.replace(r\" +\", \" \")\n",
      "C:\\Users\\Gilson Castro\\AppData\\Local\\Temp\\ipykernel_13864\\3650518421.py:2: SettingWithCopyWarning: \n",
      "A value is trying to be set on a copy of a slice from a DataFrame.\n",
      "Try using .loc[row_indexer,col_indexer] = value instead\n",
      "\n",
      "See the caveats in the documentation: https://pandas.pydata.org/pandas-docs/stable/user_guide/indexing.html#returning-a-view-versus-a-copy\n",
      "  df_filtro['review_text'] = preprocessamento(df_filtro['review_text'])\n"
     ]
    }
   ],
   "source": [
    "#aplicando a função na coluna\n",
    "df_filtro['review_text'] = preprocessamento(df_filtro['review_text'])"
   ]
  },
  {
   "cell_type": "markdown",
   "id": "d3bf65b7",
   "metadata": {},
   "source": [
    "## Calculando a polaridade dos comentários usando o TextBlob"
   ]
  },
  {
   "cell_type": "markdown",
   "id": "eb99dad2",
   "metadata": {},
   "source": [
    "O analisador de sentimento TextBlob retorna duas propriedades para uma frase de entrada:\n",
    "\n",
    "**Polaridade**: É um valor numérico entre -1 e 1. -1 indica um sentimento negativo, 0 indica neutro e +1 indica sentimentos positivos. É uma medida de quão positivo ou negativo é o sentimento expresso na frase.\n",
    "\n",
    "**Subjetividade**: Também é um valor numérico entre 0 e 1. 0 significa que a frase é objetiva, ou seja, é factual e não contém opiniões pessoais. Por outro lado, 1 indica que a frase é altamente subjetiva, contendo opiniões pessoais, emoções ou julgamentos.\n",
    "\n",
    "Portanto, a polaridade indica se o sentimento é positivo ou negativo, enquanto a subjetividade indica se a frase é objetiva ou subjetiva."
   ]
  },
  {
   "cell_type": "code",
   "execution_count": 38,
   "id": "fc27b0c4",
   "metadata": {},
   "outputs": [
    {
     "name": "stderr",
     "output_type": "stream",
     "text": [
      "C:\\Users\\Gilson Castro\\AppData\\Local\\Temp\\ipykernel_13864\\2733351460.py:1: SettingWithCopyWarning: \n",
      "A value is trying to be set on a copy of a slice from a DataFrame.\n",
      "Try using .loc[row_indexer,col_indexer] = value instead\n",
      "\n",
      "See the caveats in the documentation: https://pandas.pydata.org/pandas-docs/stable/user_guide/indexing.html#returning-a-view-versus-a-copy\n",
      "  df_filtro['polaridade']=df_filtro['review_text'].map(lambda text: TextBlob(text).sentiment.polarity)\n"
     ]
    }
   ],
   "source": [
    "df_filtro['polaridade']=df_filtro['review_text'].map(lambda text: TextBlob(text).sentiment.polarity)\n"
   ]
  },
  {
   "cell_type": "code",
   "execution_count": 39,
   "id": "f81aa9fe",
   "metadata": {},
   "outputs": [
    {
     "data": {
      "text/html": [
       "<div>\n",
       "<style scoped>\n",
       "    .dataframe tbody tr th:only-of-type {\n",
       "        vertical-align: middle;\n",
       "    }\n",
       "\n",
       "    .dataframe tbody tr th {\n",
       "        vertical-align: top;\n",
       "    }\n",
       "\n",
       "    .dataframe thead th {\n",
       "        text-align: right;\n",
       "    }\n",
       "</style>\n",
       "<table border=\"1\" class=\"dataframe\">\n",
       "  <thead>\n",
       "    <tr style=\"text-align: right;\">\n",
       "      <th></th>\n",
       "      <th>review_text</th>\n",
       "      <th>review_rating</th>\n",
       "      <th>polaridade</th>\n",
       "    </tr>\n",
       "  </thead>\n",
       "  <tbody>\n",
       "    <tr>\n",
       "      <th>0</th>\n",
       "      <td>A cadeira gigante fica localizada em frente ao...</td>\n",
       "      <td>5</td>\n",
       "      <td>0.266667</td>\n",
       "    </tr>\n",
       "    <tr>\n",
       "      <th>1</th>\n",
       "      <td>Ponto turístico na orla de Maceió bastante mov...</td>\n",
       "      <td>5</td>\n",
       "      <td>0.333333</td>\n",
       "    </tr>\n",
       "    <tr>\n",
       "      <th>2</th>\n",
       "      <td>Excelente ponto turístico para algumas fotos\\n...</td>\n",
       "      <td>5</td>\n",
       "      <td>0.000000</td>\n",
       "    </tr>\n",
       "    <tr>\n",
       "      <th>3</th>\n",
       "      <td>Bem lindaaa\\nNo dia q eu fui tinha muita gente...</td>\n",
       "      <td>5</td>\n",
       "      <td>0.000000</td>\n",
       "    </tr>\n",
       "  </tbody>\n",
       "</table>\n",
       "</div>"
      ],
      "text/plain": [
       "                                         review_text  review_rating  \\\n",
       "0  A cadeira gigante fica localizada em frente ao...              5   \n",
       "1  Ponto turístico na orla de Maceió bastante mov...              5   \n",
       "2  Excelente ponto turístico para algumas fotos\\n...              5   \n",
       "3  Bem lindaaa\\nNo dia q eu fui tinha muita gente...              5   \n",
       "\n",
       "   polaridade  \n",
       "0    0.266667  \n",
       "1    0.333333  \n",
       "2    0.000000  \n",
       "3    0.000000  "
      ]
     },
     "execution_count": 39,
     "metadata": {},
     "output_type": "execute_result"
    }
   ],
   "source": [
    "df_filtro.head(4)"
   ]
  },
  {
   "cell_type": "markdown",
   "id": "e5778a17",
   "metadata": {},
   "source": [
    "# Distribuição Univariada de Características"
   ]
  },
  {
   "cell_type": "markdown",
   "id": "95201903",
   "metadata": {},
   "source": [
    "A distribuição univariada de características analisa a distribuição de uma única variável em um conjunto de dados, sem levar em conta outras variáveis. É fundamental para entender a variabilidade e a forma dessa característica específica."
   ]
  },
  {
   "cell_type": "markdown",
   "id": "31452fda",
   "metadata": {},
   "source": [
    "## Distribuição de Polaridade"
   ]
  },
  {
   "cell_type": "code",
   "execution_count": 42,
   "id": "68cc2f50",
   "metadata": {},
   "outputs": [
    {
     "name": "stderr",
     "output_type": "stream",
     "text": [
      "C:\\Users\\Gilson Castro\\AppData\\Local\\Temp\\ipykernel_13864\\802937219.py:1: UserWarning: \n",
      "\n",
      "`distplot` is a deprecated function and will be removed in seaborn v0.14.0.\n",
      "\n",
      "Please adapt your code to use either `displot` (a figure-level function with\n",
      "similar flexibility) or `histplot` (an axes-level function for histograms).\n",
      "\n",
      "For a guide to updating your code to use the new functions, please see\n",
      "https://gist.github.com/mwaskom/de44147ed2974457ad6372750bbe5751\n",
      "\n",
      "  sns.distplot(df_filtro[\"polaridade\"],hist=True)\n"
     ]
    },
    {
     "data": {
      "text/plain": [
       "<Axes: xlabel='polaridade', ylabel='Density'>"
      ]
     },
     "execution_count": 42,
     "metadata": {},
     "output_type": "execute_result"
    },
    {
     "data": {
      "image/png": "[encoded data removed]",
      "text/plain": [
       "<Figure size 640x480 with 1 Axes>"
      ]
     },
     "metadata": {},
     "output_type": "display_data"
    }
   ],
   "source": [
    "sns.distplot(df_filtro[\"polaridade\"],hist=True)"
   ]
  },
  {
   "cell_type": "markdown",
   "id": "0300e8af",
   "metadata": {},
   "source": [
    "Neste gráfico acima mostra uma polaridade próxima de 0 indica que o sentimento expresso na frase é neutro. Isso significa que a frase não apresenta um sentimento positivo ou negativo forte, mas é mais equilibrada ou ambígua em termos de emoções ou opiniões."
   ]
  },
  {
   "cell_type": "code",
   "execution_count": 69,
   "id": "17814560",
   "metadata": {},
   "outputs": [
    {
     "data": {
      "text/plain": [
       "count    250.000000\n",
       "mean       0.070089\n",
       "std        0.135485\n",
       "min        0.000000\n",
       "25%        0.000000\n",
       "50%        0.000000\n",
       "75%        0.100000\n",
       "max        0.600000\n",
       "Name: polaridade, dtype: float64"
      ]
     },
     "execution_count": 69,
     "metadata": {},
     "output_type": "execute_result"
    }
   ],
   "source": [
    "df_filtro['polaridade'].describe()"
   ]
  },
  {
   "cell_type": "markdown",
   "id": "bbd6d5ab",
   "metadata": {},
   "source": [
    "## Distribuição da classificação dos comentários"
   ]
  },
  {
   "cell_type": "code",
   "execution_count": 44,
   "id": "176347bd",
   "metadata": {},
   "outputs": [
    {
     "data": {
      "image/png": "[encoded data removed]",
      "text/plain": [
       "<Figure size 640x480 with 1 Axes>"
      ]
     },
     "metadata": {},
     "output_type": "display_data"
    }
   ],
   "source": [
    "plt.hist(df_filtro['review_rating'])\n",
    "plt.show()"
   ]
  },
  {
   "cell_type": "code",
   "execution_count": 66,
   "id": "256c973b",
   "metadata": {},
   "outputs": [
    {
     "data": {
      "text/plain": [
       "count    250.000000\n",
       "mean       4.624000\n",
       "std        0.777846\n",
       "min        1.000000\n",
       "25%        5.000000\n",
       "50%        5.000000\n",
       "75%        5.000000\n",
       "max        5.000000\n",
       "Name: review_rating, dtype: float64"
      ]
     },
     "execution_count": 66,
     "metadata": {},
     "output_type": "execute_result"
    }
   ],
   "source": [
    "# estatistica descritiva das reviews\n",
    "df_filtro['review_rating'].describe().T"
   ]
  },
  {
   "cell_type": "code",
   "execution_count": 68,
   "id": "f02849dc",
   "metadata": {},
   "outputs": [
    {
     "data": {
      "image/png": "[encoded data removed]",
      "text/plain": [
       "<Figure size 800x600 with 1 Axes>"
      ]
     },
     "metadata": {},
     "output_type": "display_data"
    }
   ],
   "source": [
    "# Criando o gráfico de barras com as estatísticas descritivas\n",
    "plt.figure(figsize=(8, 6))\n",
    "sns.barplot(x=df_filtro['review_rating'].describe().index, y=df_filtro['review_rating'].describe().values)\n",
    "plt.xlabel('Estatísticas Descritivas')\n",
    "plt.ylabel('Valores')\n",
    "plt.title('Estatísticas Descritivas da Coluna \"review_rating\"')\n",
    "\n",
    "# Adicionando os valores como rótulos no gráfico\n",
    "for index, value in enumerate(df_filtro['review_rating'].describe().values):\n",
    "    plt.text(index, value, str(round(value, 2)), ha='center', va='bottom')\n",
    "\n",
    "plt.show()"
   ]
  },
  {
   "cell_type": "code",
   "execution_count": 46,
   "id": "13500d37",
   "metadata": {},
   "outputs": [
    {
     "data": {
      "text/plain": [
       "<seaborn.axisgrid.FacetGrid at 0x22da3a93f70>"
      ]
     },
     "execution_count": 46,
     "metadata": {},
     "output_type": "execute_result"
    },
    {
     "data": {
      "image/png": "[encoded data removed]",
      "text/plain": [
       "<Figure size 500x500 with 1 Axes>"
      ]
     },
     "metadata": {},
     "output_type": "display_data"
    }
   ],
   "source": [
    "sns.displot(df_filtro, x=\"review_rating\", kind=\"kde\")"
   ]
  },
  {
   "cell_type": "markdown",
   "id": "dcfc677f",
   "metadata": {},
   "source": [
    "## N-gramas"
   ]
  },
  {
   "cell_type": "code",
   "execution_count": 54,
   "id": "29e4f28a",
   "metadata": {},
   "outputs": [
    {
     "name": "stderr",
     "output_type": "stream",
     "text": [
      "[nltk_data] Downloading package punkt to C:\\Users\\Gilson\n",
      "[nltk_data]     Castro\\AppData\\Roaming\\nltk_data...\n",
      "[nltk_data]   Package punkt is already up-to-date!\n"
     ]
    }
   ],
   "source": [
    "from collections import Counter\n",
    "import nltk\n",
    "from nltk.tokenize import word_tokenize\n",
    "from sklearn.feature_extraction.text import CountVectorizer\n",
    "nltk.download('punkt')\n",
    "from nltk.corpus import stopwords"
   ]
  },
  {
   "cell_type": "markdown",
   "id": "15ea8c25",
   "metadata": {},
   "source": [
    "\n",
    "N-gramas são sequências de n elementos consecutivos em uma sequência de texto, onde \"n\" pode ser qualquer número inteiro positivo. Os unigramas são um tipo específico de n-grama, onde \"n\" é igual a 1, ou seja, são sequências compostas por uma única palavra em um texto.\n",
    "\n",
    "A distribuição dos principais unigramas refere-se à frequência de ocorrência de cada palavra individual no texto. Essa análise mostra quais palavras são mais comuns e quais são menos frequentes na sequência de texto, permitindo identificar padrões ou palavras-chave significativas no conjunto de dados textual."
   ]
  },
  {
   "cell_type": "code",
   "execution_count": 51,
   "id": "21fa314a",
   "metadata": {},
   "outputs": [
    {
     "name": "stderr",
     "output_type": "stream",
     "text": [
      "C:\\Users\\Gilson Castro\\AppData\\Local\\Temp\\ipykernel_13864\\2126703693.py:22: FutureWarning: \n",
      "\n",
      "The `ci` parameter is deprecated. Use `errorbar=None` for the same effect.\n",
      "\n",
      "  fig = sns.barplot(x = 'Palavras',y='Contagem',data=df_ngram,ci = None, ax=ax)\n"
     ]
    },
    {
     "data": {
      "image/png": "[encoded data removed]",
      "text/plain": [
       "<Figure size 1400x600 with 1 Axes>"
      ]
     },
     "metadata": {},
     "output_type": "display_data"
    }
   ],
   "source": [
    "# função para Distribuição dos principais Unigramas\n",
    "\n",
    "def get_top_ngrams(df,n=None):\n",
    "    vec = CountVectorizer().fit(df)\n",
    "     \n",
    "    bag_of_words = vec.transform(df)\n",
    "     \n",
    "    sum_words = bag_of_words.sum(axis=0)\n",
    "     \n",
    "    words_freq = [(word,sum_words[0,i]) for word,i in vec.vocabulary_.items()]\n",
    "    #words_freq = list(cv_fit.vocabulary_.items())\n",
    "    words_freq = sorted(words_freq,key=lambda x:x[1],reverse=True)\n",
    "     \n",
    "    return words_freq[:n]\n",
    " \n",
    "common_words = get_top_ngrams(df_filtro['review_text'],25)\n",
    " \n",
    "df_ngram = pd.DataFrame(common_words,columns=['Palavras','Contagem'])\n",
    "df_ngram = df_ngram.groupby('Palavras').sum()['Contagem'].sort_values(ascending=False).reset_index()\n",
    " \n",
    "fig,ax = plt.subplots(figsize=(14,6))\n",
    "fig = sns.barplot(x = 'Palavras',y='Contagem',data=df_ngram,ci = None, ax=ax)\n",
    " \n",
    "ax.set_xticklabels(labels=df_ngram['Palavras'], rotation=45, ha='right')\n",
    "plt.show()"
   ]
  },
  {
   "cell_type": "markdown",
   "id": "24c0a190",
   "metadata": {},
   "source": [
    "## Distribuição dos principais unigramas (depois de remover as stopwords)"
   ]
  },
  {
   "cell_type": "code",
   "execution_count": 58,
   "id": "5d6be34e",
   "metadata": {},
   "outputs": [
    {
     "name": "stderr",
     "output_type": "stream",
     "text": [
      "[nltk_data] Downloading package stopwords to C:\\Users\\Gilson\n",
      "[nltk_data]     Castro\\AppData\\Roaming\\nltk_data...\n",
      "[nltk_data]   Package stopwords is already up-to-date!\n",
      "C:\\Users\\Gilson Castro\\AppData\\Local\\Temp\\ipykernel_13864\\3100547170.py:21: SettingWithCopyWarning: \n",
      "A value is trying to be set on a copy of a slice from a DataFrame.\n",
      "Try using .loc[row_indexer,col_indexer] = value instead\n",
      "\n",
      "See the caveats in the documentation: https://pandas.pydata.org/pandas-docs/stable/user_guide/indexing.html#returning-a-view-versus-a-copy\n",
      "  df_filtro['review_text'] = df_filtro['review_text'].apply(remove_portuguese_stopwords)\n",
      "C:\\Users\\Gilson Castro\\AppData\\Local\\Temp\\ipykernel_13864\\3100547170.py:38: FutureWarning: \n",
      "\n",
      "The `ci` parameter is deprecated. Use `errorbar=None` for the same effect.\n",
      "\n",
      "  fig = sns.barplot(x='Palavras', y='Contagem', data=df_ngram, ci=None, ax=ax)\n"
     ]
    },
    {
     "data": {
      "image/png": "[encoded data removed]",
      "text/plain": [
       "<Figure size 800x600 with 1 Axes>"
      ]
     },
     "metadata": {},
     "output_type": "display_data"
    }
   ],
   "source": [
    "# função para Distribuição dos principais Unigramas\n",
    "nltk.download('stopwords')\n",
    "from sklearn.feature_extraction.text import ENGLISH_STOP_WORDS\n",
    "\n",
    "# Função para remover stop words em português\n",
    "def remove_portuguese_stopwords(text):\n",
    "    stopwords_pt = set([\"a\", \"ao\", \"aos\", \"aquela\", \"aquelas\", \"aquele\", \"aqueles\", \"aquilo\", \"as\", \"até\", \"com\", \"como\",\n",
    "                        \"da\", \"das\", \"de\", \"dela\", \"delas\", \"dele\", \"deles\", \"do\", \"dos\", \"e\", \"ela\", \"elas\", \"ele\",\n",
    "                        \"eles\", \"em\", \"entre\", \"essa\", \"essas\", \"esse\", \"esses\", \"esta\", \"estas\", \"este\", \"estes\",\n",
    "                        \"isso\", \"isto\", \"já\", \"lhe\", \"lhes\", \"mais\", \"mas\", \"me\", \"mesmo\", \"meu\", \"meus\", \"minha\",\n",
    "                        \"minhas\", \"muito\", \"na\", \"nas\", \"não\", \"no\", \"nos\", \"nós\", \"nossa\", \"nossas\", \"nosso\", \"nossos\",\n",
    "                        \"num\", \"numa\", \"nunca\", \"o\", \"os\", \"ou\", \"para\", \"pela\", \"pelas\", \"pelo\", \"pelos\", \"por\", \"que\",\n",
    "                        \"quem\", \"se\", \"sem\", \"seu\", \"seus\", \"sua\", \"suas\", \"também\", \"te\", \"teu\", \"teus\", \"tu\", \"tua\",\n",
    "                        \"tuas\", \"um\", \"uma\", \"você\", \"vocês\", \"vos\", \"à\", \"às\"])\n",
    "\n",
    "    words = text.split()\n",
    "    words_cleaned = [word for word in words if word.lower() not in stopwords_pt]\n",
    "    return \" \".join(words_cleaned)\n",
    "\n",
    " \n",
    "df_filtro['review_text'] = df_filtro['review_text'].apply(remove_portuguese_stopwords)\n",
    "\n",
    "# Função para Distribuição dos principais Unigramas\n",
    "def get_top_ngrams(df, n=None):\n",
    "    vec = CountVectorizer().fit(df)\n",
    "    bag_of_words = vec.transform(df)\n",
    "    sum_words = bag_of_words.sum(axis=0)\n",
    "    words_freq = [(word, sum_words[0, i]) for word, i in vec.vocabulary_.items()]\n",
    "    words_freq = sorted(words_freq, key=lambda x: x[1], reverse=True)\n",
    "    return words_freq[:n]\n",
    "\n",
    "# Obtendo os principais unigramas\n",
    "common_words = get_top_ngrams(df_filtro['review_text'], 5)\n",
    "\n",
    "# Criando o DataFrame e plotando o gráfico de barras\n",
    "df_ngram = pd.DataFrame(common_words, columns=['Palavras', 'Contagem'])\n",
    "fig, ax = plt.subplots(figsize=(8, 6))\n",
    "fig = sns.barplot(x='Palavras', y='Contagem', data=df_ngram, ci=None, ax=ax)\n",
    "\n",
    "ax.set_xticklabels(labels=df_ngram['Palavras'], rotation=45, ha='right')\n",
    "plt.show()\n",
    "\n",
    "\n"
   ]
  },
  {
   "cell_type": "markdown",
   "id": "b64d57c5",
   "metadata": {},
   "source": [
    "## Gráfico conjunto de densidade 2D de polaridade de sentimento vs. avaliação"
   ]
  },
  {
   "cell_type": "code",
   "execution_count": 59,
   "id": "ec3db020",
   "metadata": {},
   "outputs": [
    {
     "data": {
      "text/plain": [
       "<seaborn.axisgrid.JointGrid at 0x22da6c0d2d0>"
      ]
     },
     "execution_count": 59,
     "metadata": {},
     "output_type": "execute_result"
    },
    {
     "data": {
      "image/png": "[encoded data removed]",
      "text/plain": [
       "<Figure size 600x600 with 3 Axes>"
      ]
     },
     "metadata": {},
     "output_type": "display_data"
    }
   ],
   "source": [
    "g = sns.jointplot(data=df_filtro, x=\"polaridade\", y=\"review_rating\")\n",
    "g.plot_joint(sns.kdeplot, color=\"r\", zorder=0, levels=6)\n",
    "g.plot_marginals(sns.rugplot, color=\"r\", height=-.15, clip_on=False)"
   ]
  },
  {
   "cell_type": "markdown",
   "id": "4c236cb0",
   "metadata": {},
   "source": [
    "A maioria das análises se concentrou na classificação de 5 e na polaridade de 0,25 a 0,5, dando uma sensação geral de críticas positivas para os comentários"
   ]
  },
  {
   "cell_type": "markdown",
   "id": "2ea1bc0b",
   "metadata": {},
   "source": [
    "## Modelagem de tópicos"
   ]
  },
  {
   "cell_type": "code",
   "execution_count": 65,
   "id": "57c6f375",
   "metadata": {},
   "outputs": [
    {
     "name": "stdout",
     "output_type": "stream",
     "text": [
      "Topico 1: tirar, foto, fotos, cadeira, pra\n",
      "Topico 2: maceió, gigante, linda, cadeira, lindo\n",
      "Topico 3: fotos, boa, gigante, subir, lindas\n",
      "Topico 4: local, ponto, turístico, fotos, ótimo\n",
      "Topico 5: lugar, pra, ótimo, lindo, ter\n",
      "Topico 6: ponto, turístico, lindo, escada, subir\n",
      "Topico 7: pra, ponto, gostei, turístico, grande\n",
      "Topico 8: maceió, vc, visita, cidade, escada\n",
      "Topico 9: lugar, pena, vale, top, ficam\n",
      "Topico 10: legal, gostei, fotos, tudo, lindo\n"
     ]
    },
    {
     "name": "stderr",
     "output_type": "stream",
     "text": [
      "C:\\Users\\Gilson Castro\\AppData\\Local\\Temp\\ipykernel_13864\\962114856.py:14: SettingWithCopyWarning: \n",
      "A value is trying to be set on a copy of a slice from a DataFrame.\n",
      "Try using .loc[row_indexer,col_indexer] = value instead\n",
      "\n",
      "See the caveats in the documentation: https://pandas.pydata.org/pandas-docs/stable/user_guide/indexing.html#returning-a-view-versus-a-copy\n",
      "  df_filtro['review_text'] = df_filtro['review_text'].apply(remove_portuguese_stopwords)\n"
     ]
    }
   ],
   "source": [
    "import pandas as pd\n",
    "from sklearn.feature_extraction.text import TfidfVectorizer\n",
    "from sklearn.decomposition import TruncatedSVD\n",
    "\n",
    "# Função para remover stop words em português\n",
    "def remove_portuguese_stopwords(text):\n",
    "    stopwords_pt = set(stopwords.words('portuguese'))\n",
    "\n",
    "    words = text.split()\n",
    "    words_cleaned = [word for word in words if word.lower() not in stopwords_pt]\n",
    "    return \" \".join(words_cleaned)\n",
    "\n",
    "# Removendo as stop words em português da coluna reviews\n",
    "df_filtro['review_text'] = df_filtro['review_text'].apply(remove_portuguese_stopwords)\n",
    "\n",
    "\n",
    "reindexed_data = df_filtro['review_text']\n",
    "\n",
    "# Inicializando o TfidfVectorizer\n",
    "tfidf_vectorizer = TfidfVectorizer()\n",
    "\n",
    "# Convertendo os dados para uma matriz\n",
    "reindexed_data = reindexed_data.values\n",
    "\n",
    "# Criando a matriz de termos do documento usando TfidfVectorizer\n",
    "document_term_matrix = tfidf_vectorizer.fit_transform(reindexed_data)\n",
    "\n",
    "n_topics = 10 # definindo o numero de topicos\n",
    "\n",
    "# Inicializando o modelo LSA\n",
    "lsa_model = TruncatedSVD(n_components=n_topics)\n",
    "\n",
    "# Aplicando o modelo LSA para reduzir a dimensionalidade\n",
    "lsa_topic_matrix = lsa_model.fit_transform(document_term_matrix)\n",
    "\n",
    "# Obtendo os tópicos usando os componentes do LSA\n",
    "terms = tfidf_vectorizer.get_feature_names_out()\n",
    "topics = {}\n",
    "for i, topic in enumerate(lsa_model.components_):\n",
    "    topic_terms = [terms[j] for j in topic.argsort()[:-6:-1]]  # Top 5 termos de cada tópico\n",
    "    topics[f\"Topico {i+1}\"] = topic_terms\n",
    "\n",
    "# Imprimindo os 10 tópicos e os termos associados\n",
    "for topic, terms in topics.items():\n",
    "    print(f\"{topic}: {', '.join(terms)}\")\n"
   ]
  },
  {
   "cell_type": "markdown",
   "id": "d7e3d557",
   "metadata": {},
   "source": [
    "# Conclusões"
   ]
  },
  {
   "cell_type": "markdown",
   "id": "33a539e9",
   "metadata": {},
   "source": [
    "Com base nas estatísticas descritivas e nos tópicos gerados a partir dos dados, podemos tirar as seguintes conclusões sobre a **cadeira gigante de Maceió**:\n",
    "\n",
    "1. **Satisfação dos visitantes**: A média das avaliações é alta (aproximadamente 4.624 em 5), o que indica que, em geral, os visitantes estão satisfeitos com a experiência relacionada à cadeira gigante de Maceió.\n",
    "\n",
    "2. **Alta classificação**: A grande maioria das avaliações está na pontuação máxima de 5.0, e o terceiro quartil é 5.0, o que sugere que muitos produtos relacionados à cadeira gigante de Maceió receberam avaliações muito positivas.\n",
    "\n",
    "3. **Opiniões positivas**: Os tópicos gerados a partir dos dados mostram que as palavras mais frequentes associadas à cadeira gigante de Maceió são positivas, como \"linda\", \"ótimo\", \"legal\", \"gostei\" e \"lindo\". Isso indica que os clientes têm opiniões positivas sobre a experiência.\n",
    "\n",
    "4. **Ponto turístico atraente**: Os tópicos também indicam que a cadeira gigante de Maceió é vista como um ponto turístico atraente e fotogênico, com muitos clientes mencionando fotos, pontos turísticos, local, escada e outras palavras relacionadas.\n",
    "\n",
    "5. **Diversidade de opiniões**: Embora a maioria das avaliações seja muito positiva, existem algumas avaliações com pontuações mais baixas (mínimo de 1.0) e uma pequena dispersão nos dados (desvio padrão de aproximadamente 0.778). Isso indica que há uma diversidade de opiniões e experiências dos visitantes em relação à cadeira gigante de Maceió.\n",
    "\n",
    "6. As estatísticas descritivas da **polaridade das avaliações** mostram que a maioria das avaliações é neutra ou levemente inclinada para a positividade. A polaridade média é próxima de zero, sugerindo que as avaliações têm uma tendência a serem neutras ou pouco inclinadas a serem positivas ou negativas. No entanto, existem algumas avaliações positivas, mas a maioria das avaliações possui uma polaridade baixa, indicando uma quantidade significativa de avaliações neutras."
   ]
  },
  {
   "cell_type": "markdown",
   "id": "d2ce5c4f",
   "metadata": {},
   "source": [
    "# Referências"
   ]
  },
  {
   "cell_type": "markdown",
   "id": "6cd03761",
   "metadata": {},
   "source": [
    "https://textblob.readthedocs.io/en/dev/\n",
    "\n",
    "https://maceio.al.gov.br/noticias/secom/cadeira-de-praia-gigante-conquista-publico-e-alcanca-10-milhoes-de-views-em-tres-dias"
   ]
  },
  {
   "cell_type": "code",
   "execution_count": null,
   "id": "57998fbc",
   "metadata": {},
   "outputs": [],
   "source": []
  }
 ],
 "metadata": {
  "kernelspec": {
   "display_name": "Python 3 (ipykernel)",
   "language": "python",
   "name": "python3"
  },
  "language_info": {
   "codemirror_mode": {
    "name": "ipython",
    "version": 3
   },
   "file_extension": ".py",
   "mimetype": "text/x-python",
   "name": "python",
   "nbconvert_exporter": "python",
   "pygments_lexer": "ipython3",
   "version": "3.10.9"
  }
 },
 "nbformat": 4,
 "nbformat_minor": 5
}
